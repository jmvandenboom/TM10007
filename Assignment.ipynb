{
  "nbformat": 4,
  "nbformat_minor": 0,
  "metadata": {
    "colab": {
      "name": "Fresh_start_06-04-2021.ipynb",
      "provenance": [],
      "collapsed_sections": [
        "4dYcN8hFFsFK",
        "CWWYQvwGFwwj",
        "kHzfIbigTwX1",
        "zdkbCWdagseX",
        "MdlUbvqIQ-vG"
      ]
    },
    "kernelspec": {
      "display_name": "Python 3",
      "name": "python3"
    },
    "language_info": {
      "name": "python"
    }
  },
  "cells": [
    {
      "cell_type": "markdown",
      "metadata": {
        "id": "4dYcN8hFFsFK"
      },
      "source": [
        "# Install the neccesary packages"
      ]
    },
    {
      "cell_type": "code",
      "metadata": {
        "colab": {
          "base_uri": "https://localhost:8080/"
        },
        "id": "FsI_POwcFlbV",
        "outputId": "fddaaf6c-0a02-406e-a47b-7e649e35e5ee"
      },
      "source": [
        "\"\"\"\n",
        "Machine Learning Dataset 3 Head & Neck cancer\n",
        "\n",
        "Aniek Sips (4560736), Jorijn van den Boom (4664027), Roos Kolthof (4545001), Kars Tjepkema (4553039)\n",
        "\"\"\"\n",
        "\n",
        "!pip install -q --upgrade git+https://github.com/karinvangarderen/tm10007_project.git\n",
        "# Install the neccesary packages\n",
        "!pip install numpy pandas SimpleITK scikit-image natsort scikit-learn seaborn PREDICT matplotlib\n",
        "\n",
        "# NOTE: if you get an error when installing PREDICT concerning pywavelets,\n",
        "# you can just negate it\n",
        "\n",
        "# Install the toolbox made for this course\n",
        "# !pip install -q --upgrade git+https://github.com/MStarmans91/aiptoolbox.git\n",
        "\n",
        "# Importing all neccesary packages\n",
        "import numpy as np\n",
        "import pandas as pd\n",
        "import matplotlib.pyplot as plt\n",
        "import seaborn\n",
        "import random\n",
        "import matplotlib\n",
        "\n",
        "from sklearn.model_selection import train_test_split \n",
        "from sklearn.model_selection import GridSearchCV, RandomizedSearchCV, KFold, validation_curve\n",
        "from sklearn.decomposition import PCA\n",
        "from sklearn.preprocessing import RobustScaler\n",
        "from sklearn.metrics import accuracy_score, confusion_matrix\n",
        "from sklearn.svm import LinearSVC, SVC\n",
        "from sklearn.ensemble import RandomForestClassifier\n",
        "from sklearn.neighbors import KNeighborsClassifier\n",
        "from hn.load_data import load_data"
      ],
      "execution_count": 1,
      "outputs": [
        {
          "output_type": "stream",
          "text": [
            "  Building wheel for brats (setup.py) ... \u001b[?25l\u001b[?25hdone\n",
            "Requirement already satisfied: numpy in /usr/local/lib/python3.7/dist-packages (1.19.5)\n",
            "Requirement already satisfied: pandas in /usr/local/lib/python3.7/dist-packages (1.1.5)\n",
            "Collecting SimpleITK\n",
            "\u001b[?25l  Downloading https://files.pythonhosted.org/packages/9c/6b/85df5eb3a8059b23a53a9f224476e75473f9bcc0a8583ed1a9c34619f372/SimpleITK-2.0.2-cp37-cp37m-manylinux2010_x86_64.whl (47.4MB)\n",
            "\u001b[K     |████████████████████████████████| 47.4MB 131kB/s \n",
            "\u001b[?25hRequirement already satisfied: scikit-image in /usr/local/lib/python3.7/dist-packages (0.16.2)\n",
            "Requirement already satisfied: natsort in /usr/local/lib/python3.7/dist-packages (5.5.0)\n",
            "Requirement already satisfied: scikit-learn in /usr/local/lib/python3.7/dist-packages (0.22.2.post1)\n",
            "Requirement already satisfied: seaborn in /usr/local/lib/python3.7/dist-packages (0.11.1)\n",
            "Collecting PREDICT\n",
            "\u001b[?25l  Downloading https://files.pythonhosted.org/packages/7f/f4/a3795820e1663b632ffa129db9d8b867691f62678b1f5fe7f7ca33f32736/PREDICT-3.1.13-py3-none-any.whl (57kB)\n",
            "\u001b[K     |████████████████████████████████| 61kB 7.2MB/s \n",
            "\u001b[?25hRequirement already satisfied: matplotlib in /usr/local/lib/python3.7/dist-packages (3.2.2)\n",
            "Requirement already satisfied: python-dateutil>=2.7.3 in /usr/local/lib/python3.7/dist-packages (from pandas) (2.8.1)\n",
            "Requirement already satisfied: pytz>=2017.2 in /usr/local/lib/python3.7/dist-packages (from pandas) (2018.9)\n",
            "Requirement already satisfied: imageio>=2.3.0 in /usr/local/lib/python3.7/dist-packages (from scikit-image) (2.4.1)\n",
            "Requirement already satisfied: PyWavelets>=0.4.0 in /usr/local/lib/python3.7/dist-packages (from scikit-image) (1.1.1)\n",
            "Requirement already satisfied: scipy>=0.19.0 in /usr/local/lib/python3.7/dist-packages (from scikit-image) (1.4.1)\n",
            "Requirement already satisfied: networkx>=2.0 in /usr/local/lib/python3.7/dist-packages (from scikit-image) (2.5.1)\n",
            "Requirement already satisfied: pillow>=4.3.0 in /usr/local/lib/python3.7/dist-packages (from scikit-image) (7.1.2)\n",
            "Requirement already satisfied: joblib>=0.11 in /usr/local/lib/python3.7/dist-packages (from scikit-learn) (1.0.1)\n",
            "Collecting phasepack>=1.5\n",
            "  Downloading https://files.pythonhosted.org/packages/7d/ec/b52bc331f9e69cbf3c2c367c531176b45185741bd9f516ef82b64e7fbe9f/phasepack-1.5.tar.gz\n",
            "Collecting pydicom>=1.2.2\n",
            "\u001b[?25l  Downloading https://files.pythonhosted.org/packages/f4/15/df16546bc59bfca390cf072d473fb2c8acd4231636f64356593a63137e55/pydicom-2.1.2-py3-none-any.whl (1.9MB)\n",
            "\u001b[K     |████████████████████████████████| 1.9MB 38.3MB/s \n",
            "\u001b[?25hCollecting pyradiomics>=3.0\n",
            "\u001b[?25l  Downloading https://files.pythonhosted.org/packages/8c/03/694a45860268a3b96c9a8b88f7064d959d383332c7d7adb4a72a49035ac2/pyradiomics-3.0.1-cp37-cp37m-manylinux1_x86_64.whl (188kB)\n",
            "\u001b[K     |████████████████████████████████| 194kB 47.4MB/s \n",
            "\u001b[?25hCollecting configparser>=3.7.4\n",
            "  Downloading https://files.pythonhosted.org/packages/fd/01/ff260a18caaf4457eb028c96eeb405c4a230ca06c8ec9c1379f813caa52e/configparser-5.0.2-py3-none-any.whl\n",
            "Collecting tables>=3.5.1\n",
            "\u001b[?25l  Downloading https://files.pythonhosted.org/packages/0f/cb/4097be890a773af95343389faa8c283b0d9ff606f144227a548461dcbdd5/tables-3.6.1-cp37-cp37m-manylinux1_x86_64.whl (4.3MB)\n",
            "\u001b[K     |████████████████████████████████| 4.3MB 36.7MB/s \n",
            "\u001b[?25hRequirement already satisfied: cycler>=0.10 in /usr/local/lib/python3.7/dist-packages (from matplotlib) (0.10.0)\n",
            "Requirement already satisfied: kiwisolver>=1.0.1 in /usr/local/lib/python3.7/dist-packages (from matplotlib) (1.3.1)\n",
            "Requirement already satisfied: pyparsing!=2.0.4,!=2.1.2,!=2.1.6,>=2.0.1 in /usr/local/lib/python3.7/dist-packages (from matplotlib) (2.4.7)\n",
            "Requirement already satisfied: six>=1.5 in /usr/local/lib/python3.7/dist-packages (from python-dateutil>=2.7.3->pandas) (1.15.0)\n",
            "Requirement already satisfied: decorator<5,>=4.3 in /usr/local/lib/python3.7/dist-packages (from networkx>=2.0->scikit-image) (4.4.2)\n",
            "Collecting pykwalify>=1.6.0\n",
            "  Downloading https://files.pythonhosted.org/packages/1f/fd/ac2161cce19fd67a18c269073f8e86292b5511acec6f8ef6eab88615d032/pykwalify-1.8.0-py2.py3-none-any.whl\n",
            "Requirement already satisfied: numexpr>=2.6.2 in /usr/local/lib/python3.7/dist-packages (from tables>=3.5.1->PREDICT) (2.7.3)\n",
            "Requirement already satisfied: docopt>=0.6.2 in /usr/local/lib/python3.7/dist-packages (from pykwalify>=1.6.0->pyradiomics>=3.0->PREDICT) (0.6.2)\n",
            "Collecting ruamel.yaml>=0.16.0\n",
            "\u001b[?25l  Downloading https://files.pythonhosted.org/packages/29/4e/c3105bbbbc662f6a671a505f00ec771e93b5254f09fbb06002af9087071a/ruamel.yaml-0.17.4-py3-none-any.whl (101kB)\n",
            "\u001b[K     |████████████████████████████████| 102kB 9.5MB/s \n",
            "\u001b[?25hCollecting ruamel.yaml.clib>=0.1.2; platform_python_implementation == \"CPython\" and python_version < \"3.10\"\n",
            "\u001b[?25l  Downloading https://files.pythonhosted.org/packages/5e/6e/f652c56bbb2c3d3fca252ffc7c0358597f57a1bbdf484dac683054950c63/ruamel.yaml.clib-0.2.2-cp37-cp37m-manylinux1_x86_64.whl (547kB)\n",
            "\u001b[K     |████████████████████████████████| 552kB 46.7MB/s \n",
            "\u001b[?25hBuilding wheels for collected packages: phasepack\n",
            "  Building wheel for phasepack (setup.py) ... \u001b[?25l\u001b[?25hdone\n",
            "  Created wheel for phasepack: filename=phasepack-1.5-cp37-none-any.whl size=26983 sha256=311649359bf426f21547e52a3fbc0736d9406518141200bc7f1376e1a0389401\n",
            "  Stored in directory: /root/.cache/pip/wheels/70/b3/0a/eba59071a075d1192016960030f2b52751f23adfb260a3db93\n",
            "Successfully built phasepack\n",
            "\u001b[31mERROR: predict 3.1.13 has requirement PyWavelets<=1.0.0,>=0.4.0, but you'll have pywavelets 1.1.1 which is incompatible.\u001b[0m\n",
            "Installing collected packages: SimpleITK, phasepack, pydicom, ruamel.yaml.clib, ruamel.yaml, pykwalify, pyradiomics, configparser, tables, PREDICT\n",
            "  Found existing installation: tables 3.4.4\n",
            "    Uninstalling tables-3.4.4:\n",
            "      Successfully uninstalled tables-3.4.4\n",
            "Successfully installed PREDICT-3.1.13 SimpleITK-2.0.2 configparser-5.0.2 phasepack-1.5 pydicom-2.1.2 pykwalify-1.8.0 pyradiomics-3.0.1 ruamel.yaml-0.17.4 ruamel.yaml.clib-0.2.2 tables-3.6.1\n"
          ],
          "name": "stdout"
        }
      ]
    },
    {
      "cell_type": "markdown",
      "metadata": {
        "id": "CWWYQvwGFwwj"
      },
      "source": [
        "# Importing data"
      ]
    },
    {
      "cell_type": "code",
      "metadata": {
        "id": "kRn5unhnF0QL"
      },
      "source": [
        "data = load_data()\n",
        "data_label = data['label']\n",
        "data_no_label = data.drop(['label'], axis = 1)\n",
        "patient_ids = data.index\n",
        "\n",
        "results = pd.DataFrame(columns=[\"label\", \"data_no_label\"])\n",
        "for patient in patient_ids:\n",
        "  # To correct for potential missing data, find out if the patients data contains NaN\n",
        "  if data_no_label.loc[patient].isnull().values.any() == True:\n",
        "    print(f'key{patient} contains nan or is empty')\n",
        "    # Drop patient that contains NaN\n",
        "  else:\n",
        "    patient_row = data_no_label.loc[patient]\n",
        "    patient_row = patient_row.values.flatten()\n",
        "    results.loc[patient] = [data_label[patient], patient_row]\n",
        "\n",
        "data_no_label = results['data_no_label'].to_numpy().tolist()\n",
        "data_label = results['label'].to_numpy()\n",
        "\n"
      ],
      "execution_count": 2,
      "outputs": []
    },
    {
      "cell_type": "markdown",
      "metadata": {
        "id": "kHzfIbigTwX1"
      },
      "source": [
        "# Display data"
      ]
    },
    {
      "cell_type": "code",
      "metadata": {
        "colab": {
          "base_uri": "https://localhost:8080/",
          "height": 269
        },
        "id": "TaCEAlSkT5N9",
        "outputId": "3e6364a9-9371-4cec-d861-865e4e69340d"
      },
      "source": [
        "# SCALING\n",
        "disp_sc = RobustScaler().fit(data_no_label)\n",
        "X_disp_sc = disp_sc.transform(data_no_label)\n",
        "\n",
        "# PCA\n",
        "disp_pca = PCA(n_components=2).fit(X_disp_sc)\n",
        "X_disp_pca = disp_pca.transform(X_disp_sc)\n",
        "\n",
        "seaborn.scatterplot(x=X_disp_pca[:, 0], y=X_disp_pca[:, 1], hue=data_label)\n",
        "plt.xlim(-10,0)   # Remove to see outliers\n",
        "plt.ylim(-10,0)   # Remove to see outliers\n",
        "plt.rcParams['figure.figsize'] = 10,10"
      ],
      "execution_count": 3,
      "outputs": [
        {
          "output_type": "display_data",
          "data": {
            "image/png": "[encoded data removed]",
            "text/plain": [
              "<Figure size 432x288 with 1 Axes>"
            ]
          },
          "metadata": {
            "tags": [],
            "needs_background": "light"
          }
        }
      ]
    },
    {
      "cell_type": "markdown",
      "metadata": {
        "id": "zdkbCWdagseX"
      },
      "source": [
        "# PCA - Scree Plot\n"
      ]
    },
    {
      "cell_type": "code",
      "metadata": {
        "colab": {
          "base_uri": "https://localhost:8080/",
          "height": 241
        },
        "id": "CGmA151uqSP5",
        "outputId": "da1a367a-d2cf-4c83-8fda-e55e4eed5c96"
      },
      "source": [
        "from sklearn.decomposition import PCA\n",
        "\n",
        "patients_train, patients_test, labels_train, labels_test = train_test_split(data_no_label, data_label, random_state=0, test_size=0.2)\n",
        "\n",
        "scaler = RobustScaler().fit(patients_train)\n",
        "patients_train_scaled = scaler.transform(patients_train)\n",
        "patients_test_scaled = scaler.transform(patients_test)\n",
        "\n",
        "pca = PCA(n_components=30).fit(patients_train_scaled)\n",
        "patients_train_pca = pca.transform(patients_train_scaled)\n",
        "patients_test_pca = pca.transform(patients_test_scaled)\n",
        "\n",
        "# Scree Plot\n",
        "PC_values = np.arange(pca.n_components_) + 1\n",
        "plt.plot(PC_values, pca.explained_variance_ratio_, 'ro-', linewidth=2)\n",
        "plt.title('Scree Plot')\n",
        "plt.xlabel('Principal Component')\n",
        "plt.ylabel('Proportion of Variance Explained')\n",
        "fig = plt.gcf()\n",
        "fig.set_size_inches(6, 3)"
      ],
      "execution_count": 4,
      "outputs": [
        {
          "output_type": "display_data",
          "data": {
            "image/png": "[encoded data removed]",
            "text/plain": [
              "<Figure size 432x216 with 1 Axes>"
            ]
          },
          "metadata": {
            "tags": [],
            "needs_background": "light"
          }
        }
      ]
    },
    {
      "cell_type": "markdown",
      "metadata": {
        "id": "1AROmju3FEhL"
      },
      "source": [
        "# K fold with linear SVC"
      ]
    },
    {
      "cell_type": "code",
      "metadata": {
        "colab": {
          "base_uri": "https://localhost:8080/",
          "height": 425
        },
        "id": "w5T9nBF_I1ZM",
        "outputId": "8551c7a2-c827-4b53-aadc-02976690e89f"
      },
      "source": [
        "data_label = data['label']\n",
        "data_no_label = data.drop(['label'], axis = 1)\n",
        "X = data_no_label\n",
        "y = np.array(data_label)\n",
        "\n",
        "outcome_linearSVC = []\n",
        "clf = LinearSVC(random_state=0, max_iter=1000000, penalty = 'l2', dual=False) \n",
        "#print(f'Default classifier: {clf}')\n",
        "parameters = {'C': [0.1, 1, 10, 100]}\n",
        "\n",
        "kf = KFold(n_splits=113, shuffle=True)\n",
        "for train_index, test_index in kf.split(X):\n",
        "    # GET TRAINING AND TEST SET\n",
        "    X_train, X_test, y_train, y_test = X.iloc[train_index], X.iloc[test_index], y[train_index], y[test_index]\n",
        "    X_train = X_train.values.tolist()\n",
        "\n",
        "    # PREPROCESSING (SCALING) ON TRAINING SET\n",
        "    scaler = RobustScaler().fit(X_train)\n",
        "    X_train_scaled = scaler.transform(X_train)\n",
        "\n",
        "    # PCA ON TRAINING SET\n",
        "    pca = PCA(n_components=10).fit(X_train_scaled)\n",
        "    X_train_PCA = pca.transform(X_train_scaled)\n",
        "    # APPLY CLASSIFIER  \n",
        "    clf.fit(X_train_PCA, y_train)\n",
        "\n",
        "    # HYPER PARAMETER OPTIMIZATION\n",
        "    grid = GridSearchCV(clf, parameters, cv=5)\n",
        "    grid_result = grid.fit(X_train_PCA, y_train)\n",
        "    clf_hyp = grid.best_estimator_\n",
        "    y_train_hyp = clf_hyp.predict(X_train_PCA)\n",
        "    acc = accuracy_score(y_train, y_train_hyp)\n",
        "    \n",
        "    # EVALUATION ON TEST SET\n",
        "    # Apply preprocessing on test set\n",
        "    X_test_scaled = scaler.transform(X_test)\n",
        "    # Apply pca on test set\n",
        "    X_test_PCA = pca.transform(X_test_scaled)\n",
        "\n",
        "    # Apply classifier on test\n",
        "    y_test_hyp = clf.predict(X_test_PCA)\n",
        "    acc_test = accuracy_score(y_test, y_test_hyp) \n",
        "    outcome_linearSVC.append([grid_result.best_params_, acc, acc_test, y_test])\n",
        "\n",
        "df_linearSVC = pd.DataFrame(data=outcome_linearSVC)\n",
        "df_linearSVC.columns = ['Best param', 'Accuracy train', 'Accuracy test', 'y_test']\n",
        "\n",
        "display(df_linearSVC)\n",
        "print('Mean accuracy linear SVC:', np.mean(df_linearSVC['Accuracy test']))"
      ],
      "execution_count": 5,
      "outputs": [
        {
          "output_type": "display_data",
          "data": {
            "text/html": [
              "<div>\n",
              "<style scoped>\n",
              "    .dataframe tbody tr th:only-of-type {\n",
              "        vertical-align: middle;\n",
              "    }\n",
              "\n",
              "    .dataframe tbody tr th {\n",
              "        vertical-align: top;\n",
              "    }\n",
              "\n",
              "    .dataframe thead th {\n",
              "        text-align: right;\n",
              "    }\n",
              "</style>\n",
              "<table border=\"1\" class=\"dataframe\">\n",
              "  <thead>\n",
              "    <tr style=\"text-align: right;\">\n",
              "      <th></th>\n",
              "      <th>Best param</th>\n",
              "      <th>Accuracy train</th>\n",
              "      <th>Accuracy test</th>\n",
              "      <th>y_test</th>\n",
              "    </tr>\n",
              "  </thead>\n",
              "  <tbody>\n",
              "    <tr>\n",
              "      <th>0</th>\n",
              "      <td>{'C': 0.1}</td>\n",
              "      <td>0.741071</td>\n",
              "      <td>1.0</td>\n",
              "      <td>[T12]</td>\n",
              "    </tr>\n",
              "    <tr>\n",
              "      <th>1</th>\n",
              "      <td>{'C': 1}</td>\n",
              "      <td>0.750000</td>\n",
              "      <td>1.0</td>\n",
              "      <td>[T12]</td>\n",
              "    </tr>\n",
              "    <tr>\n",
              "      <th>2</th>\n",
              "      <td>{'C': 1}</td>\n",
              "      <td>0.758929</td>\n",
              "      <td>0.0</td>\n",
              "      <td>[T34]</td>\n",
              "    </tr>\n",
              "    <tr>\n",
              "      <th>3</th>\n",
              "      <td>{'C': 0.1}</td>\n",
              "      <td>0.750000</td>\n",
              "      <td>1.0</td>\n",
              "      <td>[T12]</td>\n",
              "    </tr>\n",
              "    <tr>\n",
              "      <th>4</th>\n",
              "      <td>{'C': 1}</td>\n",
              "      <td>0.767857</td>\n",
              "      <td>0.0</td>\n",
              "      <td>[T12]</td>\n",
              "    </tr>\n",
              "    <tr>\n",
              "      <th>...</th>\n",
              "      <td>...</td>\n",
              "      <td>...</td>\n",
              "      <td>...</td>\n",
              "      <td>...</td>\n",
              "    </tr>\n",
              "    <tr>\n",
              "      <th>108</th>\n",
              "      <td>{'C': 0.1}</td>\n",
              "      <td>0.741071</td>\n",
              "      <td>1.0</td>\n",
              "      <td>[T34]</td>\n",
              "    </tr>\n",
              "    <tr>\n",
              "      <th>109</th>\n",
              "      <td>{'C': 0.1}</td>\n",
              "      <td>0.767857</td>\n",
              "      <td>1.0</td>\n",
              "      <td>[T12]</td>\n",
              "    </tr>\n",
              "    <tr>\n",
              "      <th>110</th>\n",
              "      <td>{'C': 1}</td>\n",
              "      <td>0.758929</td>\n",
              "      <td>1.0</td>\n",
              "      <td>[T34]</td>\n",
              "    </tr>\n",
              "    <tr>\n",
              "      <th>111</th>\n",
              "      <td>{'C': 10}</td>\n",
              "      <td>0.767857</td>\n",
              "      <td>0.0</td>\n",
              "      <td>[T34]</td>\n",
              "    </tr>\n",
              "    <tr>\n",
              "      <th>112</th>\n",
              "      <td>{'C': 0.1}</td>\n",
              "      <td>0.741071</td>\n",
              "      <td>1.0</td>\n",
              "      <td>[T12]</td>\n",
              "    </tr>\n",
              "  </tbody>\n",
              "</table>\n",
              "<p>113 rows × 4 columns</p>\n",
              "</div>"
            ],
            "text/plain": [
              "     Best param  Accuracy train  Accuracy test y_test\n",
              "0    {'C': 0.1}        0.741071            1.0  [T12]\n",
              "1      {'C': 1}        0.750000            1.0  [T12]\n",
              "2      {'C': 1}        0.758929            0.0  [T34]\n",
              "3    {'C': 0.1}        0.750000            1.0  [T12]\n",
              "4      {'C': 1}        0.767857            0.0  [T12]\n",
              "..          ...             ...            ...    ...\n",
              "108  {'C': 0.1}        0.741071            1.0  [T34]\n",
              "109  {'C': 0.1}        0.767857            1.0  [T12]\n",
              "110    {'C': 1}        0.758929            1.0  [T34]\n",
              "111   {'C': 10}        0.767857            0.0  [T34]\n",
              "112  {'C': 0.1}        0.741071            1.0  [T12]\n",
              "\n",
              "[113 rows x 4 columns]"
            ]
          },
          "metadata": {
            "tags": []
          }
        },
        {
          "output_type": "stream",
          "text": [
            "Mean accuracy linear SVC: 0.6902654867256637\n"
          ],
          "name": "stdout"
        }
      ]
    },
    {
      "cell_type": "code",
      "metadata": {
        "colab": {
          "base_uri": "https://localhost:8080/",
          "height": 138
        },
        "id": "08s16183-fDH",
        "outputId": "e6035e98-e529-4a75-8e8b-46f56a2562d2"
      },
      "source": [
        "all_param = df_linearSVC['Best param'].value_counts()\n",
        "list_all_param = all_param.index.tolist()\n",
        "\n",
        "hyp_linearSVC = []\n",
        "for C in list_all_param:\n",
        "  df_only_C = df_linearSVC[df_linearSVC['Best param'] == C]\n",
        "  f= df_linearSVC[df_linearSVC['Best param'] == C].count()[0]\n",
        "  hyp_linearSVC.append([C, np.mean(df_only_C['Accuracy test']), f])\n",
        "df_hyp_linearSVC= pd.DataFrame(data=hyp_linearSVC)\n",
        "df_hyp_linearSVC.columns = ['Param linear SVC', 'Accuracy test', 'Freq']\n",
        "display(df_hyp_linearSVC)"
      ],
      "execution_count": 6,
      "outputs": [
        {
          "output_type": "display_data",
          "data": {
            "text/html": [
              "<div>\n",
              "<style scoped>\n",
              "    .dataframe tbody tr th:only-of-type {\n",
              "        vertical-align: middle;\n",
              "    }\n",
              "\n",
              "    .dataframe tbody tr th {\n",
              "        vertical-align: top;\n",
              "    }\n",
              "\n",
              "    .dataframe thead th {\n",
              "        text-align: right;\n",
              "    }\n",
              "</style>\n",
              "<table border=\"1\" class=\"dataframe\">\n",
              "  <thead>\n",
              "    <tr style=\"text-align: right;\">\n",
              "      <th></th>\n",
              "      <th>Param linear SVC</th>\n",
              "      <th>Accuracy test</th>\n",
              "      <th>Freq</th>\n",
              "    </tr>\n",
              "  </thead>\n",
              "  <tbody>\n",
              "    <tr>\n",
              "      <th>0</th>\n",
              "      <td>{'C': 0.1}</td>\n",
              "      <td>0.694915</td>\n",
              "      <td>59</td>\n",
              "    </tr>\n",
              "    <tr>\n",
              "      <th>1</th>\n",
              "      <td>{'C': 1}</td>\n",
              "      <td>0.723404</td>\n",
              "      <td>47</td>\n",
              "    </tr>\n",
              "    <tr>\n",
              "      <th>2</th>\n",
              "      <td>{'C': 10}</td>\n",
              "      <td>0.428571</td>\n",
              "      <td>7</td>\n",
              "    </tr>\n",
              "  </tbody>\n",
              "</table>\n",
              "</div>"
            ],
            "text/plain": [
              "  Param linear SVC  Accuracy test  Freq\n",
              "0       {'C': 0.1}       0.694915    59\n",
              "1         {'C': 1}       0.723404    47\n",
              "2        {'C': 10}       0.428571     7"
            ]
          },
          "metadata": {
            "tags": []
          }
        }
      ]
    },
    {
      "cell_type": "markdown",
      "metadata": {
        "id": "MdlUbvqIQ-vG"
      },
      "source": [
        "# K fold with SVC kernel(s)"
      ]
    },
    {
      "cell_type": "code",
      "metadata": {
        "colab": {
          "base_uri": "https://localhost:8080/",
          "height": 498
        },
        "id": "hPyw880JFKHK",
        "outputId": "8fe59640-28a8-437b-e526-494f60d3ab17"
      },
      "source": [
        "data_label = data['label']\n",
        "data_no_label = data.drop(['label'], axis = 1)\n",
        "X = data_no_label\n",
        "y = np.array(data_label)\n",
        "\n",
        "outcome_SVC = []\n",
        "clf = SVC() \n",
        "print(f'Default classifier: {clf}')\n",
        "\n",
        "parameters = {'C': [0.1, 1, 10, 100], 'gamma': [0.001, 0.01, 0.1, 1, 10], 'kernel': ['rbf']}\n",
        "\n",
        "kf = KFold(n_splits=113, random_state=0, shuffle=True)\n",
        "for train_index, test_index in kf.split(X):\n",
        "    # GET TRAINING AND TEST SET\n",
        "    X_train, X_test, y_train, y_test = X.iloc[train_index], X.iloc[test_index], y[train_index], y[test_index]\n",
        "    X_train = X_train.values.tolist()\n",
        "\n",
        "    # PREPROCESSING (SCALING) ON TRAINING SET\n",
        "    scaler = RobustScaler().fit(X_train)\n",
        "    X_train_scaled = scaler.transform(X_train)\n",
        "\n",
        "    # PCA ON TRAINING SET\n",
        "    pca = PCA(n_components=10).fit(X_train_scaled)\n",
        "    X_train_PCA = pca.transform(X_train)\n",
        "    # APPLY CLASSIFIER  \n",
        "    clf.fit(X_train_PCA, y_train)\n",
        "\n",
        "    # HYPER PARAMETER OPTIMIZATION\n",
        "    grid = GridSearchCV(clf, parameters, cv=5)\n",
        "    grid_result = grid.fit(X_train_PCA, y_train)\n",
        "    clf_hyp = grid.best_estimator_\n",
        "    y_train_hyp = clf_hyp.predict(X_train_PCA)\n",
        "    acc = accuracy_score(y_train, y_train_hyp)\n",
        "\n",
        "    # EVALUATION ON TEST SET\n",
        "    # Apply preprocessing on test set\n",
        "    X_test_scaled = scaler.transform(X_test)\n",
        "    # Apply pca on test set\n",
        "    X_test_PCA = pca.transform(X_test_scaled)\n",
        "\n",
        "    # Apply classifier on test\n",
        "    y_test_hyp = clf_hyp.predict(X_test_PCA)\n",
        "    acc_test = accuracy_score(y_test, y_test_hyp) \n",
        "    outcome_SVC.append([grid_result.best_params_, acc, acc_test]) \n",
        " \n",
        "df_SVC = pd.DataFrame(data=outcome_SVC)\n",
        "df_SVC.columns = ['Best param', 'Accuracy train', 'Accuracy test']\n",
        "\n",
        "display(df_SVC)\n",
        "print(np.mean(df_SVC['Accuracy test']))"
      ],
      "execution_count": 7,
      "outputs": [
        {
          "output_type": "stream",
          "text": [
            "Default classifier: SVC(C=1.0, break_ties=False, cache_size=200, class_weight=None, coef0=0.0,\n",
            "    decision_function_shape='ovr', degree=3, gamma='scale', kernel='rbf',\n",
            "    max_iter=-1, probability=False, random_state=None, shrinking=True,\n",
            "    tol=0.001, verbose=False)\n"
          ],
          "name": "stdout"
        },
        {
          "output_type": "display_data",
          "data": {
            "text/html": [
              "<div>\n",
              "<style scoped>\n",
              "    .dataframe tbody tr th:only-of-type {\n",
              "        vertical-align: middle;\n",
              "    }\n",
              "\n",
              "    .dataframe tbody tr th {\n",
              "        vertical-align: top;\n",
              "    }\n",
              "\n",
              "    .dataframe thead th {\n",
              "        text-align: right;\n",
              "    }\n",
              "</style>\n",
              "<table border=\"1\" class=\"dataframe\">\n",
              "  <thead>\n",
              "    <tr style=\"text-align: right;\">\n",
              "      <th></th>\n",
              "      <th>Best param</th>\n",
              "      <th>Accuracy train</th>\n",
              "      <th>Accuracy test</th>\n",
              "    </tr>\n",
              "  </thead>\n",
              "  <tbody>\n",
              "    <tr>\n",
              "      <th>0</th>\n",
              "      <td>{'C': 0.1, 'gamma': 0.001, 'kernel': 'rbf'}</td>\n",
              "      <td>0.508929</td>\n",
              "      <td>1.0</td>\n",
              "    </tr>\n",
              "    <tr>\n",
              "      <th>1</th>\n",
              "      <td>{'C': 0.1, 'gamma': 0.001, 'kernel': 'rbf'}</td>\n",
              "      <td>0.517857</td>\n",
              "      <td>0.0</td>\n",
              "    </tr>\n",
              "    <tr>\n",
              "      <th>2</th>\n",
              "      <td>{'C': 0.1, 'gamma': 0.001, 'kernel': 'rbf'}</td>\n",
              "      <td>0.517857</td>\n",
              "      <td>0.0</td>\n",
              "    </tr>\n",
              "    <tr>\n",
              "      <th>3</th>\n",
              "      <td>{'C': 0.1, 'gamma': 0.001, 'kernel': 'rbf'}</td>\n",
              "      <td>0.508929</td>\n",
              "      <td>1.0</td>\n",
              "    </tr>\n",
              "    <tr>\n",
              "      <th>4</th>\n",
              "      <td>{'C': 0.1, 'gamma': 0.001, 'kernel': 'rbf'}</td>\n",
              "      <td>0.508929</td>\n",
              "      <td>1.0</td>\n",
              "    </tr>\n",
              "    <tr>\n",
              "      <th>...</th>\n",
              "      <td>...</td>\n",
              "      <td>...</td>\n",
              "      <td>...</td>\n",
              "    </tr>\n",
              "    <tr>\n",
              "      <th>108</th>\n",
              "      <td>{'C': 0.1, 'gamma': 0.001, 'kernel': 'rbf'}</td>\n",
              "      <td>0.508929</td>\n",
              "      <td>1.0</td>\n",
              "    </tr>\n",
              "    <tr>\n",
              "      <th>109</th>\n",
              "      <td>{'C': 0.1, 'gamma': 0.001, 'kernel': 'rbf'}</td>\n",
              "      <td>0.517857</td>\n",
              "      <td>0.0</td>\n",
              "    </tr>\n",
              "    <tr>\n",
              "      <th>110</th>\n",
              "      <td>{'C': 0.1, 'gamma': 0.001, 'kernel': 'rbf'}</td>\n",
              "      <td>0.508929</td>\n",
              "      <td>1.0</td>\n",
              "    </tr>\n",
              "    <tr>\n",
              "      <th>111</th>\n",
              "      <td>{'C': 0.1, 'gamma': 0.001, 'kernel': 'rbf'}</td>\n",
              "      <td>0.517857</td>\n",
              "      <td>0.0</td>\n",
              "    </tr>\n",
              "    <tr>\n",
              "      <th>112</th>\n",
              "      <td>{'C': 0.1, 'gamma': 0.001, 'kernel': 'rbf'}</td>\n",
              "      <td>0.517857</td>\n",
              "      <td>0.0</td>\n",
              "    </tr>\n",
              "  </tbody>\n",
              "</table>\n",
              "<p>113 rows × 3 columns</p>\n",
              "</div>"
            ],
            "text/plain": [
              "                                      Best param  Accuracy train  Accuracy test\n",
              "0    {'C': 0.1, 'gamma': 0.001, 'kernel': 'rbf'}        0.508929            1.0\n",
              "1    {'C': 0.1, 'gamma': 0.001, 'kernel': 'rbf'}        0.517857            0.0\n",
              "2    {'C': 0.1, 'gamma': 0.001, 'kernel': 'rbf'}        0.517857            0.0\n",
              "3    {'C': 0.1, 'gamma': 0.001, 'kernel': 'rbf'}        0.508929            1.0\n",
              "4    {'C': 0.1, 'gamma': 0.001, 'kernel': 'rbf'}        0.508929            1.0\n",
              "..                                           ...             ...            ...\n",
              "108  {'C': 0.1, 'gamma': 0.001, 'kernel': 'rbf'}        0.508929            1.0\n",
              "109  {'C': 0.1, 'gamma': 0.001, 'kernel': 'rbf'}        0.517857            0.0\n",
              "110  {'C': 0.1, 'gamma': 0.001, 'kernel': 'rbf'}        0.508929            1.0\n",
              "111  {'C': 0.1, 'gamma': 0.001, 'kernel': 'rbf'}        0.517857            0.0\n",
              "112  {'C': 0.1, 'gamma': 0.001, 'kernel': 'rbf'}        0.517857            0.0\n",
              "\n",
              "[113 rows x 3 columns]"
            ]
          },
          "metadata": {
            "tags": []
          }
        },
        {
          "output_type": "stream",
          "text": [
            "0.5132743362831859\n"
          ],
          "name": "stdout"
        }
      ]
    },
    {
      "cell_type": "markdown",
      "metadata": {
        "id": "ycgY1ZTsi2qU"
      },
      "source": [
        "# K fold with RF\n"
      ]
    },
    {
      "cell_type": "code",
      "metadata": {
        "colab": {
          "background_save": true,
          "base_uri": "https://localhost:8080/"
        },
        "id": "EBZ77mWTlNbZ",
        "outputId": "dd6ceabd-8c08-4e3d-c3d9-d72dc716d957"
      },
      "source": [
        "data_label = data['label']\n",
        "data_no_label = data.drop(['label'], axis = 1)\n",
        "X = data_no_label\n",
        "y = np.array(data_label)\n",
        "\n",
        "outcome_RF = []\n",
        "\n",
        "clf = RandomForestClassifier(random_state=0, bootstrap=True)\n",
        "print(f'Default classifier: {clf}')\n",
        "\n",
        "max_features = list(range(10,X.shape[1]))\n",
        "random_grid = {'n_estimators': [1, 10, 50, 100, 200, 500], 'max_features': [1, round(0.25*113), round(0.5*113), round(0.75*113), 113]}\n",
        "\n",
        "kf = KFold(n_splits=113, random_state=42, shuffle=True)\n",
        "for train_index, test_index in kf.split(X):\n",
        "    # GET TRAINING AND TEST SET\n",
        "    X_train, X_test, y_train, y_test = X.iloc[train_index], X.iloc[test_index], y[train_index], y[test_index]\n",
        "    \n",
        "    X_train= X_train.values.tolist()\n",
        "    X_test = X_test.values.tolist()\n",
        "\n",
        "    # PREPROCESSING (SCALING) ON TRAINING SET\n",
        "    scaler = RobustScaler().fit(X_train)\n",
        "    X_train_scaled = scaler.transform(X_train)\n",
        "    \n",
        "    # APPLY CLASSIFIER\n",
        "    clf.fit(X_train_scaled, y_train)\n",
        "\n",
        "    # HYPER PARAMETER OPTIMIZATION\n",
        "    grid = RandomizedSearchCV(estimator = clf, param_distributions = random_grid, n_iter=30, cv = 5)\n",
        "    grid_result = grid.fit(X_train_scaled, y_train)\n",
        "    clf_hyp = grid.best_estimator_\n",
        "    y_train_hyp = clf_hyp.predict(X_train_scaled)\n",
        "    acc_train = accuracy_score(y_train, y_train_hyp)\n",
        "    \n",
        "    # EVALUATION ON TEST SET\n",
        "    # Apply preprocessing on test set\n",
        "    X_test_scaled = scaler.transform(X_test)\n",
        "    \n",
        "    # Apply classifier on test set\n",
        "    y_test_hyp = clf_hyp.predict(X_test_scaled)\n",
        "    acc_test = accuracy_score(y_test, y_test_hyp)\n",
        "    outcome_RF.append([grid_result.best_params_, acc_train, acc_test])\n",
        "\n",
        "df_RF = pd.DataFrame(data=outcome_RF)\n",
        "df_RF.columns = ['Best param', 'Accuracy train', 'Accuracy test']\n",
        "\n",
        "display(df_RF)\n",
        "print('Mean accuracy train RF:', np.mean(df_RF['Accuracy train']))\n",
        "print('Mean accuracy test RF:', np.mean(df_RF['Accuracy test']))"
      ],
      "execution_count": null,
      "outputs": [
        {
          "output_type": "stream",
          "text": [
            "Default classifier: RandomForestClassifier(bootstrap=True, ccp_alpha=0.0, class_weight=None,\n",
            "                       criterion='gini', max_depth=None, max_features='auto',\n",
            "                       max_leaf_nodes=None, max_samples=None,\n",
            "                       min_impurity_decrease=0.0, min_impurity_split=None,\n",
            "                       min_samples_leaf=1, min_samples_split=2,\n",
            "                       min_weight_fraction_leaf=0.0, n_estimators=100,\n",
            "                       n_jobs=None, oob_score=False, random_state=0, verbose=0,\n",
            "                       warm_start=False)\n"
          ],
          "name": "stdout"
        }
      ]
    },
    {
      "cell_type": "code",
      "metadata": {
        "id": "MpEaOUw-qpXT"
      },
      "source": [
        "all_param = df_RF['Best param'].value_counts()\n",
        "list_all_param = all_param.index.tolist()\n",
        "\n",
        "hyp_RF = []\n",
        "for C in list_all_param:\n",
        "  df_only_C = df_RF[df_RF['Best param'] == C]\n",
        "  f= df_RF[df_RF['Best param'] == C].count()[0]\n",
        "  hyp_RF.append([C, np.mean(df_only_C['Accuracy test']), f])\n",
        "df_hyp_RF= pd.DataFrame(data=hyp_RF)\n",
        "df_hyp_RF.columns = ['Param RF', 'Accuracy test', 'Freq']\n",
        "display(df_hyp_RF)"
      ],
      "execution_count": null,
      "outputs": []
    },
    {
      "cell_type": "markdown",
      "metadata": {
        "id": "1hBnhoiDhU3v"
      },
      "source": [
        "Function to plot the training curve of the two hyperparameters 'number of trees' and 'maximum features' for the Random Forest Classifier. "
      ]
    },
    {
      "cell_type": "code",
      "metadata": {
        "colab": {
          "background_save": true
        },
        "id": "6z5WHYaAfQyD"
      },
      "source": [
        "# PLOTTING TRAINING CURVES FUNCTION\n",
        "def plot_results(model, name = 'Num Trees'):\n",
        "\n",
        "  # Extract information from the CV model \n",
        "  train_scores = model['Mean_Train_Score'].mean()\n",
        "  test_scores = model['Mean_Test_Score'].mean()\n",
        "  train_time = model['Mean_Fit_Time'].mean()\n",
        "  param_values = list(model['Param_Name'].iloc[1])\n",
        "  print(train_scores)\n",
        "  print(param_values)\n",
        "\n",
        "  train_scores_std = model['Mean_Train_Score'].to_numpy().std()\n",
        "  test_scores_std = model['Mean_Test_Score'].to_numpy().std()\n",
        "  train_time_std = model['Mean_Fit_Time'].to_numpy().std()\n",
        "\n",
        "  # Plot the scores over the parameter\n",
        "  plt.subplots(1, 2, figsize=(10, 6))\n",
        "  plt.subplot(121)\n",
        "  plt.plot(param_values, train_scores, 'bo-', label = 'train')\n",
        "  plt.plot(param_values, test_scores, 'go-', label = 'test')\n",
        "  plt.fill_between(param_values, train_scores-train_scores_std, train_scores+train_scores_std, 'b', alpha=.2)\n",
        "  plt.fill_between(param_values, test_scores-test_scores_std, test_scores+test_scores_std, 'g', alpha=.2)\n",
        "  plt.ylim(ymin = 0.0, ymax = 1.2)\n",
        "  plt.legend()\n",
        "  plt.xlabel(name)\n",
        "  plt.ylabel('Accuracy')\n",
        "  plt.title('Accuracy vs %s' % name)\n",
        "    \n",
        "  plt.subplot(122)\n",
        "  plt.plot(param_values, train_time, 'ro-')\n",
        "  plt.fill_between(param_values, train_time-train_time_std, train_time+train_time_std, 'r',alpha=.2)\n",
        "  plt.ylim(ymin = 0.0, ymax = 1.0)\n",
        "  plt.xlabel(name)\n",
        "  plt.ylabel('Train Time (sec)')\n",
        "  plt.title('Training Time vs %s' % name)\n",
        "    \n",
        "  plt.tight_layout(pad = 4)\n"
      ],
      "execution_count": null,
      "outputs": []
    },
    {
      "cell_type": "code",
      "metadata": {
        "colab": {
          "background_save": true
        },
        "id": "zG6ecvJXfaex"
      },
      "source": [
        "# TRAINING CURVES - number of trees \n",
        "data_label = data['label']\n",
        "data_no_label = data.drop(['label'], axis = 1)\n",
        "X = data_no_label\n",
        "y = np.array(data_label)\n",
        "\n",
        "outcome_RF_tree = []\n",
        "\n",
        "clf = RandomForestClassifier(random_state=0, bootstrap=True)\n",
        "print(f'Default classifier: {clf}')\n",
        "\n",
        "kf = KFold(n_splits=113, random_state=42, shuffle=True)\n",
        "for train_index, test_index in kf.split(X):\n",
        "    # GET TRAINING AND TEST SET\n",
        "    X_train, X_test, y_train, y_test = X.iloc[train_index], X.iloc[test_index], y[train_index], y[test_index]\n",
        "    \n",
        "    X_train= X_train.values.tolist()\n",
        "    X_test = X_test.values.tolist()\n",
        "\n",
        "    # PREPROCESSING (SCALING) ON TRAINING SET\n",
        "    scaler = RobustScaler().fit(X_train)\n",
        "    X_train_scaled = scaler.transform(X_train)\n",
        "\n",
        "    # APPLY CLASSIFIER\n",
        "    clf.fit(X_train_scaled, y_train)\n",
        "\n",
        "    # Grid with only the number of trees changed\n",
        "    tree_grid = {'n_estimators': [1, 10, 50, 100, 500]}\n",
        "    # Create the grid search model and fit to the training data\n",
        "    tree_grid_search = GridSearchCV(clf, param_grid=tree_grid, cv=5, scoring='accuracy', return_train_score=True)\n",
        "    tree_grid_search.fit(X_train_scaled, y_train)\n",
        "    tree_grid_result = tree_grid_search.cv_results_\n",
        "\n",
        "    # Collecting relevant data\n",
        "    param = 'n_estimators'\n",
        "    param_name = 'param_%s' % param\n",
        "    outcome_RF_tree.append([tree_grid_result['mean_train_score'], tree_grid_result['mean_test_score'], tree_grid_result['mean_fit_time'], tree_grid_result[param_name]])\n",
        "\n",
        "# Creating final dataframe for the number of trees \n",
        "df_RF_tree = pd.DataFrame(data=outcome_RF_tree)\n",
        "df_RF_tree.columns = ['Mean_Train_Score', 'Mean_Test_Score', 'Mean_Fit_Time', 'Param_Name']\n",
        "display(df_RF_tree)\n",
        "\n",
        "# Plotting trainings curve of the accuracy vs number of trees and train time vs number of trees\n",
        "plot_results(df_RF_tree)"
      ],
      "execution_count": null,
      "outputs": []
    },
    {
      "cell_type": "code",
      "metadata": {
        "colab": {
          "background_save": true
        },
        "id": "XtQ6E1d8_TMl"
      },
      "source": [
        "# TRAINING CURVES - number of features \n",
        "data_label = data['label']\n",
        "data_no_label = data.drop(['label'], axis = 1)\n",
        "X = data_no_label\n",
        "y = np.array(data_label)\n",
        "\n",
        "outcome_RF_feature = []\n",
        "\n",
        "clf = RandomForestClassifier(random_state=0, bootstrap=True)\n",
        "print(f'Default classifier: {clf}')\n",
        "\n",
        "kf = KFold(n_splits=113, random_state=42, shuffle=True)\n",
        "for train_index, test_index in kf.split(X):\n",
        "    # GET TRAINING AND TEST SET\n",
        "    X_train, X_test, y_train, y_test = X.iloc[train_index], X.iloc[test_index], y[train_index], y[test_index]\n",
        "    \n",
        "    X_train= X_train.values.tolist()\n",
        "    X_test = X_test.values.tolist()\n",
        "\n",
        "    # PREPROCESSING (SCALING) ON TRAINING SET\n",
        "    scaler = RobustScaler().fit(X_train)\n",
        "    X_train_scaled = scaler.transform(X_train)\n",
        "\n",
        "    # APPLY CLASSIFIER\n",
        "    clf.fit(X_train_scaled, y_train)\n",
        "\n",
        "    # Define a grid over only the maximum number of features\n",
        "    feature_grid = {'max_features': [1, round(0.25*113), round(0.5*113), round(0.75*113), 113]}\n",
        "    # Create the grid search and fit on the training data \n",
        "    feature_grid_search = GridSearchCV(clf, param_grid=feature_grid, cv=5, scoring='accuracy', return_train_score=True)\n",
        "    feature_grid_search.fit(X_train_scaled, y_train)\n",
        "    feature_grid_result = feature_grid_search.cv_results_\n",
        "\n",
        "    # Collecting relevant data\n",
        "    param = 'max_features'\n",
        "    param_name = 'param_%s' % param\n",
        "    outcome_RF_feature.append([feature_grid_result['mean_train_score'], feature_grid_result['mean_test_score'], feature_grid_result['mean_fit_time'], feature_grid_result[param_name]])\n",
        "\n",
        "# Creating final dataframe for the maximum number of features \n",
        "outcome_RF_feature = pd.DataFrame(data=outcome_RF_feature)\n",
        "outcome_RF_feature.columns = ['Mean_Train_Score', 'Mean_Test_Score', 'Mean_Fit_Time', 'Param_Name']\n",
        "\n",
        "# Plotting trainings curve of the accuracy vs max features and train time vs max features\n",
        "plot_results(outcome_RF_feature, name = 'Max Features')\n"
      ],
      "execution_count": null,
      "outputs": []
    },
    {
      "cell_type": "markdown",
      "metadata": {
        "id": "zbaVuLaQuP_s"
      },
      "source": [
        "# K fold with k-NN\n"
      ]
    },
    {
      "cell_type": "code",
      "metadata": {
        "colab": {
          "background_save": true
        },
        "id": "9kVkiiQlubkC"
      },
      "source": [
        "data_label = data['label']\n",
        "data_no_label = data.drop(['label'], axis = 1)\n",
        "X = data_no_label\n",
        "y = np.array(data_label)\n",
        "\n",
        "outcome_kNN = []\n",
        "clf = KNeighborsClassifier()\n",
        "print(f'Default classifier: {clf}')\n",
        "parameters = {'n_neighbors': [1, 5, 10, 50], 'weights': ['uniform', 'distance']}\n",
        "param_range = [1, 5, 10, 50]\n",
        "\n",
        "kf = KFold(n_splits=113, random_state=42, shuffle=True)\n",
        "for train_index, test_index in kf.split(X):\n",
        "    # GET TRAINING AND TEST SET\n",
        "    X_train, X_test, y_train, y_test = X.iloc[train_index], X.iloc[test_index], y[train_index], y[test_index]\n",
        "    \n",
        "    X_train= X_train.values.tolist()\n",
        "    X_test = X_test.values.tolist()\n",
        "\n",
        "    # PREPROCESSING (SCALING) ON TRAINING SET\n",
        "    scaler = RobustScaler()\n",
        "    scaler.fit(X_train)\n",
        "    X_train_scaled = scaler.transform(X_train)\n",
        "    # PCA ON TRAINING SET\n",
        "    pca = PCA(n_components=10)\n",
        "    pca.fit(X_train_scaled)\n",
        "    X_train_PCA = pca.transform(X_train)\n",
        "    \n",
        "    # APPLY CLASSIFIER\n",
        "    clf.fit(X_train_PCA, y_train)\n",
        "\n",
        "    # HYPER PARAMETER OPTIMIZATION\n",
        "    grid = GridSearchCV(clf, parameters, cv=5)\n",
        "    grid_result = grid.fit(X_train_PCA, y_train)\n",
        "    clf_hyp = grid.best_estimator_\n",
        "    y_train_hyp = clf.predict(X_train_PCA)\n",
        "    acc_train = accuracy_score(y_train, y_train_hyp)\n",
        "\n",
        "    # EVALUATION ON TEST SET\n",
        "    # Apply preprocessing on test set\n",
        "    X_test_scaled = scaler.transform(X_test)\n",
        "    # Apply pca on test set\n",
        "    X_test_PCA = pca.transform(X_test_scaled)\n",
        "\n",
        "    # Apply classifier on test set\n",
        "    y_test_hyp = clf.predict(X_test_PCA)\n",
        "    acc_test = accuracy_score(y_test, y_test_hyp)\n",
        "    outcome_kNN.append([grid_result.best_params_, acc_train, acc_test])\n",
        "\n",
        "df_kNN = pd.DataFrame(data=outcome_kNN)\n",
        "df_kNN.columns = ['Best param', 'Accuracy train', 'Accuracy test']\n",
        "\n",
        "display(df_kNN)\n",
        "\n",
        "print('Mean accuracy k-NN:', np.mean(df_kNN['Accuracy test']))"
      ],
      "execution_count": null,
      "outputs": []
    }
  ]
}